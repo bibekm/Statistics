{
 "cells": [
  {
   "cell_type": "markdown",
   "metadata": {},
   "source": [
    "# What is the True Normal Human Body Temperature? \n",
    "\n",
    "#### Background\n",
    "\n",
    "The mean normal body temperature was held to be 37$^{\\circ}$C or 98.6$^{\\circ}$F for more than 120 years since it was first conceptualized and reported by Carl Wunderlich in a famous 1868 book. But, is this value statistically correct?"
   ]
  },
  {
   "cell_type": "markdown",
   "metadata": {},
   "source": [
    "<h3>Exercises</h3>\n",
    "\n",
    "<p>In this exercise, you will analyze a dataset of human body temperatures and employ the concepts of hypothesis testing, confidence intervals, and statistical significance.</p>\n",
    "\n",
    "<p>Answer the following questions <b>in this notebook below and submit to your Github account</b>.</p> \n",
    "\n",
    "<ol>\n",
    "<li>  Is the distribution of body temperatures normal? \n",
    "    <ul>\n",
    "    <li> Although this is not a requirement for the Central Limit Theorem to hold (read the introduction on Wikipedia's page about the CLT carefully: https://en.wikipedia.org/wiki/Central_limit_theorem), it gives us some peace of mind that the population may also be normally distributed if we assume that this sample is representative of the population.\n",
    "    <li> Think about the way you're going to check for the normality of the distribution. Graphical methods are usually used first, but there are also other ways: https://en.wikipedia.org/wiki/Normality_test\n",
    "    </ul>\n",
    "<li>  Is the sample size large? Are the observations independent?\n",
    "    <ul>\n",
    "    <li> Remember that this is a condition for the Central Limit Theorem, and hence the statistical tests we are using, to apply.\n",
    "    </ul>\n",
    "<li>  Is the true population mean really 98.6 degrees F?\n",
    "    <ul>\n",
    "    <li> First, try a bootstrap hypothesis test.\n",
    "    <li> Now, let's try frequentist statistical testing. Would you use a one-sample or two-sample test? Why?\n",
    "    <li> In this situation, is it appropriate to use the $t$ or $z$ statistic? \n",
    "    <li> Now try using the other test. How is the result be different? Why?\n",
    "    </ul>\n",
    "<li>  Draw a small sample of size 10 from the data and repeat both frequentist tests. \n",
    "    <ul>\n",
    "    <li> Which one is the correct one to use? \n",
    "    <li> What do you notice? What does this tell you about the difference in application of the $t$ and $z$ statistic?\n",
    "    </ul>\n",
    "<li>  At what temperature should we consider someone's temperature to be \"abnormal\"?\n",
    "    <ul>\n",
    "    <li> As in the previous example, try calculating everything using the boostrap approach, as well as the frequentist approach.\n",
    "    <li> Start by computing the margin of error and confidence interval. When calculating the confidence interval, keep in mind that you should use the appropriate formula for one draw, and not N draws.\n",
    "    </ul>\n",
    "<li>  Is there a significant difference between males and females in normal temperature?\n",
    "    <ul>\n",
    "    <li> What testing approach did you use and why?\n",
    "    <li> Write a story with your conclusion in the context of the original problem.\n",
    "    </ul>\n",
    "</ol>\n",
    "\n",
    "You can include written notes in notebook cells using Markdown: \n",
    "   - In the control panel at the top, choose Cell > Cell Type > Markdown\n",
    "   - Markdown syntax: http://nestacms.com/docs/creating-content/markdown-cheat-sheet\n",
    "\n",
    "#### Resources\n",
    "\n",
    "+ Information and data sources: http://www.amstat.org/publications/jse/datasets/normtemp.txt, http://www.amstat.org/publications/jse/jse_data_archive.htm\n",
    "+ Markdown syntax: http://nestacms.com/docs/creating-content/markdown-cheat-sheet\n",
    "\n",
    "****"
   ]
  },
  {
   "cell_type": "code",
   "execution_count": 1,
   "metadata": {},
   "outputs": [],
   "source": [
    "# Import all modules\n",
    "import pandas as pd\n",
    "import numpy as np\n",
    "import scipy\n",
    "from scipy import stats\n",
    "import matplotlib.pyplot as plt\n",
    "%matplotlib inline\n",
    "import seaborn as sns\n",
    "import statsmodels.api as sm\n",
    "import scipy.stats as stats\n",
    "sns.set()\n",
    "\n",
    "df = pd.read_csv('data/human_body_temperature.csv')"
   ]
  },
  {
   "cell_type": "code",
   "execution_count": 2,
   "metadata": {},
   "outputs": [
    {
     "data": {
      "text/html": [
       "<div>\n",
       "<style scoped>\n",
       "    .dataframe tbody tr th:only-of-type {\n",
       "        vertical-align: middle;\n",
       "    }\n",
       "\n",
       "    .dataframe tbody tr th {\n",
       "        vertical-align: top;\n",
       "    }\n",
       "\n",
       "    .dataframe thead th {\n",
       "        text-align: right;\n",
       "    }\n",
       "</style>\n",
       "<table border=\"1\" class=\"dataframe\">\n",
       "  <thead>\n",
       "    <tr style=\"text-align: right;\">\n",
       "      <th></th>\n",
       "      <th>temperature</th>\n",
       "      <th>gender</th>\n",
       "      <th>heart_rate</th>\n",
       "    </tr>\n",
       "  </thead>\n",
       "  <tbody>\n",
       "    <tr>\n",
       "      <th>0</th>\n",
       "      <td>99.3</td>\n",
       "      <td>F</td>\n",
       "      <td>68.0</td>\n",
       "    </tr>\n",
       "    <tr>\n",
       "      <th>1</th>\n",
       "      <td>98.4</td>\n",
       "      <td>F</td>\n",
       "      <td>81.0</td>\n",
       "    </tr>\n",
       "    <tr>\n",
       "      <th>2</th>\n",
       "      <td>97.8</td>\n",
       "      <td>M</td>\n",
       "      <td>73.0</td>\n",
       "    </tr>\n",
       "    <tr>\n",
       "      <th>3</th>\n",
       "      <td>99.2</td>\n",
       "      <td>F</td>\n",
       "      <td>66.0</td>\n",
       "    </tr>\n",
       "    <tr>\n",
       "      <th>4</th>\n",
       "      <td>98.0</td>\n",
       "      <td>F</td>\n",
       "      <td>73.0</td>\n",
       "    </tr>\n",
       "  </tbody>\n",
       "</table>\n",
       "</div>"
      ],
      "text/plain": [
       "   temperature gender  heart_rate\n",
       "0         99.3      F        68.0\n",
       "1         98.4      F        81.0\n",
       "2         97.8      M        73.0\n",
       "3         99.2      F        66.0\n",
       "4         98.0      F        73.0"
      ]
     },
     "metadata": {},
     "output_type": "display_data"
    }
   ],
   "source": [
    "display(df.head())"
   ]
  },
  {
   "cell_type": "markdown",
   "metadata": {},
   "source": [
    "## 1 Is the distribution of body temperatures normal?\n",
    "\n",
    "Although this is not a requirement for the Central Limit Theorem to hold (read the introduction on Wikipedia's page about the CLT carefully: https://en.wikipedia.org/wiki/Central_limit_theorem), it gives us some peace of mind that the population may also be normally distributed if we assume that this sample is representative of the population.\n",
    "\n",
    "Think about the way you're going to check for the normality of the distribution. Graphical methods are usually used first, but there are also other ways: https://en.wikipedia.org/wiki/Normality_test"
   ]
  },
  {
   "cell_type": "code",
   "execution_count": 3,
   "metadata": {},
   "outputs": [
    {
     "data": {
      "image/png": "[encoded data removed]",
      "text/plain": [
       "<Figure size 432x288 with 1 Axes>"
      ]
     },
     "metadata": {
      "needs_background": "light"
     },
     "output_type": "display_data"
    },
    {
     "data": {
      "text/plain": [
       "<matplotlib.axes._subplots.AxesSubplot at 0x18fef0e4320>"
      ]
     },
     "execution_count": 3,
     "metadata": {},
     "output_type": "execute_result"
    },
    {
     "data": {
      "image/png": "[encoded data removed]",
      "text/plain": [
       "<Figure size 432x288 with 1 Axes>"
      ]
     },
     "metadata": {
      "needs_background": "light"
     },
     "output_type": "display_data"
    }
   ],
   "source": [
    "# Checking normality of human temperature data \n",
    "_ = plt.hist(df['temperature'])\n",
    "_ = plt.xlabel ('Temperature')\n",
    "_ = plt.ylabel ('% Distribution')\n",
    "mean= np.mean(df['temperature'])\n",
    "std= np.mean(df['temperature'])\n",
    "# samples= np.random.normal (mean, std, size = 10000)\n",
    "#_ = plt.hist(samples)\n",
    "plt.show()\n",
    "sns.distplot(df['temperature'], bins=11)"
   ]
  },
  {
   "cell_type": "code",
   "execution_count": 4,
   "metadata": {},
   "outputs": [
    {
     "data": {
      "text/plain": [
       "NormaltestResult(statistic=2.703801433319203, pvalue=0.2587479863488254)"
      ]
     },
     "execution_count": 4,
     "metadata": {},
     "output_type": "execute_result"
    },
    {
     "data": {
      "image/png": "[encoded data removed]",
      "text/plain": [
       "<Figure size 432x288 with 1 Axes>"
      ]
     },
     "metadata": {
      "needs_background": "light"
     },
     "output_type": "display_data"
    }
   ],
   "source": [
    "# Checking the qq plot and validating for normality\n",
    "\n",
    "mean = np.mean(df['temperature'])\n",
    "sd=np.std(df['temperature'])\n",
    "z = (df['temperature']-mean)/sd\n",
    "sm.qqplot(z,line='45')\n",
    "\n",
    "stats.mstats.normaltest(df['temperature'])"
   ]
  },
  {
   "cell_type": "markdown",
   "metadata": {},
   "source": [
    "## Normality Conclusion\n",
    "\n",
    "The distribution of human body temperatures appears to be a normal distribution as depicted in the histogram. \n",
    "The QQ plot is also approximately normal with a right tail.\n",
    "The null hypothesis in the normal test was that the distribution is normal. As the p-value is 0.25, there is not enough evidence to reject the normality (null hypothesis).\n",
    "\n",
    "Hence, we conclude the distibution of human body temperatures can be considered approximately normal."
   ]
  },
  {
   "cell_type": "markdown",
   "metadata": {},
   "source": [
    "## 2 Is the sample size large? Are the observations independent?\n",
    "Remember that this is a condition for the Central Limit Theorem, and hence the statistical tests we are using, to apply"
   ]
  },
  {
   "cell_type": "code",
   "execution_count": 5,
   "metadata": {},
   "outputs": [
    {
     "name": "stdout",
     "output_type": "stream",
     "text": [
      "<class 'pandas.core.frame.DataFrame'>\n",
      "RangeIndex: 130 entries, 0 to 129\n",
      "Data columns (total 3 columns):\n",
      "temperature    130 non-null float64\n",
      "gender         130 non-null object\n",
      "heart_rate     130 non-null float64\n",
      "dtypes: float64(2), object(1)\n",
      "memory usage: 3.1+ KB\n"
     ]
    },
    {
     "data": {
      "text/plain": [
       "None"
      ]
     },
     "metadata": {},
     "output_type": "display_data"
    }
   ],
   "source": [
    "display(df.info())"
   ]
  },
  {
   "cell_type": "markdown",
   "metadata": {},
   "source": [
    "There are 130 observations in the dataset. <br>\n",
    "(1) Typically, we require more than 30 observations to satisfy the normal \n",
    "conditions while carrying out statistical tests of a sample distribution. Hence, sample size of 130 is large enough. <br>\n",
    "(2) The observations can be considered independent as there are 130 observations \n",
    "which appears to be less than 10% of all humans considered."
   ]
  },
  {
   "cell_type": "markdown",
   "metadata": {},
   "source": [
    "## 3 Is the true population mean really 98.6 degrees F?\n",
    "First, try a bootstrap hypothesis test.<br>\n",
    "Now, let's try frequentist statistical testing. Would you use a one-sample or two-sample test? Why? <br>\n",
    "In this situation, is it appropriate to use the  tt  or  zz  statistic? <br>\n",
    "Now try using the other test. How is the result be different? Why? <br>"
   ]
  },
  {
   "cell_type": "markdown",
   "metadata": {},
   "source": [
    "<b>Null Hypothesis</b>: The mean of human body temperature is 98.6  <br>\n",
    "<b>Alternate Hypothesis</b>: The mean od the human body temperature is different from 98.6 <br>"
   ]
  },
  {
   "cell_type": "code",
   "execution_count": 10,
   "metadata": {},
   "outputs": [],
   "source": [
    "# bootstrap functions\n",
    "\n",
    "def bootstrap_replicate_1d(data, func):\n",
    "    \"\"\"Bootstraps the data and passes it to the desired function.\"\"\"\n",
    "    \n",
    "    return func(np.random.choice(data, size=len(data)))\n",
    "\n",
    "def draw_bs_reps(data, func, size=1):\n",
    "    \"\"\"Draw bootstrap replicates.\"\"\"\n",
    "    \n",
    "    # Initialize array of replicates: bs_replicates\n",
    "    bs_replicates = np.empty(size)\n",
    "    \n",
    "    # Generate replicates\n",
    "    for i in range(size):\n",
    "        bs_replicates[i] = bootstrap_replicate_1d(data,func)\n",
    "        \n",
    "    return bs_replicates"
   ]
  },
  {
   "cell_type": "code",
   "execution_count": 11,
   "metadata": {},
   "outputs": [
    {
     "name": "stdout",
     "output_type": "stream",
     "text": [
      "Mean 98.24923076923075\n",
      "Std Dev 0.730357778905038\n"
     ]
    }
   ],
   "source": [
    "print('Mean',np.mean(df['temperature']))\n",
    "print('Std Dev',np.std(df['temperature']))"
   ]
  },
  {
   "cell_type": "code",
   "execution_count": 12,
   "metadata": {},
   "outputs": [
    {
     "name": "stdout",
     "output_type": "stream",
     "text": [
      "t value: -543.6142704770754\n",
      "p value: 0.0\n"
     ]
    },
    {
     "data": {
      "text/plain": [
       "(98.12183549384135, 98.37525281385096)"
      ]
     },
     "execution_count": 12,
     "metadata": {},
     "output_type": "execute_result"
    }
   ],
   "source": [
    "# Find the bootstrap replicates and standard error of the mean.\n",
    "new_bs_reps = draw_bs_reps(df['temperature'], np.mean, size=10000)\n",
    "t,p=scipy.stats.ttest_1samp(new_bs_reps, 98.6)\n",
    "print('t value:',t)\n",
    "print('p value:',p)\n",
    "\n",
    "# Calculate confidence Interval\n",
    "stats.norm.interval(0.95, loc=new_bs_reps.mean(), scale=new_bs_reps.std())"
   ]
  },
  {
   "cell_type": "markdown",
   "metadata": {},
   "source": [
    "As the p-value is very close to 0, we can reject the null hypothesis that the mean of the human body temperature is same as 98.6. <br>\n",
    "Even, 98.6 does not lie within 95% confidence interval of the mean of bootstrap sample. <br>\n",
    "In other words, the mean of the human body temperature is statistically different from 98.6.  <br>"
   ]
  },
  {
   "cell_type": "markdown",
   "metadata": {},
   "source": [
    "One sample t-test should be used because we have one parameter of interest (the body temperature) <br>\n",
    "As the sample size 130 is very much higher than 30, we can use z-test. <br>\n",
    "\n"
   ]
  },
  {
   "cell_type": "code",
   "execution_count": 18,
   "metadata": {},
   "outputs": [
    {
     "name": "stdout",
     "output_type": "stream",
     "text": [
      "-5.4548232923645195\n",
      "4.9021570141012155e-08\n",
      "95% Confidence Interval:  (98.12319642818163, 98.37526511027987)\n"
     ]
    }
   ],
   "source": [
    "# Frequentist Approach\n",
    "\n",
    "z = (df['temperature'].mean() - 98.6)/(df['temperature'].std()/np.sqrt(len(df)))\n",
    "print(z)\n",
    "p_value=stats.norm.cdf(z)*2\n",
    "print(p_value)\n",
    "ci_95 = stats.norm.interval(0.95, loc = df['temperature'].mean(), scale= df['temperature'].std()/np.sqrt(len(df)))\n",
    "print('95% Confidence Interval: ', ci_95)"
   ]
  },
  {
   "cell_type": "markdown",
   "metadata": {},
   "source": [
    "As the p-value is extremely small, we can reject the null hypothesis that the mean of human body temperature is 98.6. <br>\n",
    "In other words, the mean of the human body temperature is statistically different from 98.6.  <br>"
   ]
  },
  {
   "cell_type": "code",
   "execution_count": 19,
   "metadata": {},
   "outputs": [
    {
     "name": "stdout",
     "output_type": "stream",
     "text": [
      "-5.4548232923645195\n",
      "-1.9785244914586055\n",
      "95% Confidence Interval: [98.37645863285348, 98.12200290560801]\n"
     ]
    }
   ],
   "source": [
    "#Finding the t-statistics.\n",
    "\n",
    "temp_sem = df.temperature.std()/(np.sqrt(len(df.temperature)))\n",
    "t_score= (df['temperature'].mean() - 98.6)/(df['temperature'].std()/np.sqrt(len(df)))\n",
    "crit_t=scipy.stats.t.ppf(0.05/2, len(df.temperature)-1)\n",
    "ci_width = crit_t * temp_sem\n",
    "print(t_score)\n",
    "print(crit_t)\n",
    "print('95% Confidence Interval:',[df.temperature.mean() - ci_width, df.temperature.mean() + ci_width])"
   ]
  },
  {
   "cell_type": "markdown",
   "metadata": {},
   "source": [
    "As abs(t) > abs(crit_t), we reject the null hypothesis. <br>\n",
    "Hence, the mean of human body temperature is different from 98.6. <br>\n",
    "\n",
    "We reached the same conclusion in both t and z statistics. This is because our sample size was greater than 30."
   ]
  },
  {
   "cell_type": "markdown",
   "metadata": {},
   "source": [
    "## 4. Draw a small sample of size 10 from the data and repeat both frequentist tests. \n",
    "    Which one is the correct one to use? \n",
    "    What do you notice? What does this tell you about the difference in application of the t and z statistic?"
   ]
  },
  {
   "cell_type": "markdown",
   "metadata": {},
   "source": [
    "As our sample size is 10, We will not be able to use the z-statistics. We will use the t-statistics instead to reach our conclusion."
   ]
  },
  {
   "cell_type": "code",
   "execution_count": 29,
   "metadata": {},
   "outputs": [
    {
     "data": {
      "text/plain": [
       "array([97.3, 99. , 98.7, 98.5, 97.4, 99. , 97.8, 98.1, 98. , 98.7])"
      ]
     },
     "execution_count": 29,
     "metadata": {},
     "output_type": "execute_result"
    }
   ],
   "source": [
    "df_small_sample=np.random.choice(df['temperature'],size=10)\n",
    "df_small_sample"
   ]
  },
  {
   "cell_type": "code",
   "execution_count": 30,
   "metadata": {},
   "outputs": [
    {
     "data": {
      "text/plain": [
       "98.25"
      ]
     },
     "execution_count": 30,
     "metadata": {},
     "output_type": "execute_result"
    }
   ],
   "source": [
    "df_small_sample.mean()"
   ]
  },
  {
   "cell_type": "markdown",
   "metadata": {},
   "source": [
    "When a sample size is less than 30, we will have to visually inspect to check whether it is normal. <br>\n",
    "In these cases, the t-statistics will be more accurate compared with the z statistics."
   ]
  },
  {
   "cell_type": "code",
   "execution_count": 31,
   "metadata": {},
   "outputs": [
    {
     "data": {
      "image/png": "[encoded data removed]",
      "text/plain": [
       "<Figure size 432x288 with 1 Axes>"
      ]
     },
     "execution_count": 31,
     "metadata": {},
     "output_type": "execute_result"
    },
    {
     "data": {
      "image/png": "[encoded data removed]",
      "text/plain": [
       "<Figure size 432x288 with 1 Axes>"
      ]
     },
     "metadata": {
      "needs_background": "light"
     },
     "output_type": "display_data"
    },
    {
     "data": {
      "image/png": "[encoded data removed]",
      "text/plain": [
       "<Figure size 432x288 with 1 Axes>"
      ]
     },
     "metadata": {
      "needs_background": "light"
     },
     "output_type": "display_data"
    }
   ],
   "source": [
    "sns.distplot(df_small_sample, bins=3)\n",
    "sns.distplot(df_small_sample, bins=4)\n",
    "z = (df_small_sample-df_small_sample.mean())/sd\n",
    "sm.qqplot(z,line='45')"
   ]
  },
  {
   "cell_type": "markdown",
   "metadata": {},
   "source": [
    "From the above visualizations, we can assume that the distribution is approximately normal.\n"
   ]
  },
  {
   "cell_type": "code",
   "execution_count": 33,
   "metadata": {},
   "outputs": [
    {
     "name": "stdout",
     "output_type": "stream",
     "text": [
      "t score:  -1.8694938172316853\n",
      "Critical t:  -2.262157162740992\n",
      "Confidence Interval: [97.82648696151787, 98.67351303848213]\n"
     ]
    }
   ],
   "source": [
    "# Find t statistics\n",
    "t_score= (df_small_sample.mean() - 98.6)/(df_small_sample.std()/np.sqrt(len(df_small_sample)))\n",
    "crit_t=scipy.stats.t.ppf(0.05/2, len(df_small_sample)-1)\n",
    "print('t score: ',t_score)\n",
    "print('Critical t: ',crit_t)\n",
    "temp_sem = df_small_sample.std()/(np.sqrt(len(df_small_sample)))\n",
    "ci_width = crit_t * temp_sem\n",
    "print('Confidence Interval:',[df_small_sample.mean() + ci_width, df_small_sample.mean() - ci_width])"
   ]
  },
  {
   "cell_type": "markdown",
   "metadata": {},
   "source": [
    "<b>Conclusion from t-statistics </b><br>\n",
    "As abs(t_score) < abs(crit_t), we cannot reject the null hypothesis. <br>\n",
    "Moreover, 98.6 degree is within 95% confidence interval of the sample mean.\n",
    "Hence, there is not enough evidence to suggest human body temeprature is different from 98.6. <br>"
   ]
  },
  {
   "cell_type": "markdown",
   "metadata": {},
   "source": [
    "## 5. At what temperature should we consider someone's temperature to be \"abnormal\"?\n",
    "As in the previous example, try calculating everything using the boostrap approach, as well as the frequentist approach. <br>\n",
    "Start by computing the margin of error and confidence interval. When calculating the confidence interval, keep in mind that you should use the appropriate formula for one draw, and not N draws. <br>"
   ]
  },
  {
   "cell_type": "markdown",
   "metadata": {},
   "source": [
    "<b> Note </b> <br>\n",
    "As we are finding the confidence interval and finding whether an <br>\n",
    "individual's temperature can be considered abnormal, we will consider <br>\n",
    "sample size as 1 while calculating the confidence interval. Intuitively, <br>\n",
    "it is also true that the CI will narrow down when the sample size increase."
   ]
  },
  {
   "cell_type": "code",
   "execution_count": 16,
   "metadata": {},
   "outputs": [
    {
     "name": "stdout",
     "output_type": "stream",
     "text": [
      "('t value:', -547.58631365367273)\n",
      "('p value:', 0.0)\n",
      "('Mean Temperature: ', 98.248941846153855)\n",
      "('Margin Error:', 0.12564721157835379)\n",
      "('Confidence Interval: ', [98.123294634575501, 98.374589057732209])\n"
     ]
    }
   ],
   "source": [
    "# Bootstrap approach\n",
    "new_bs_reps = draw_bs_reps(df['temperature'], np.mean, size=10000)\n",
    "t,p=scipy.stats.ttest_1samp(new_bs_reps, 98.6)\n",
    "print('t value:',t)\n",
    "print('p value:',p)\n",
    "\n",
    "# Calculate confidence Interval\n",
    "l,u=stats.norm.interval(0.95, loc=new_bs_reps.mean(), scale=new_bs_reps.std()/1)\n",
    "margin_error=new_bs_reps.mean()-l\n",
    "print('Mean Temperature: ',new_bs_reps.mean())\n",
    "print('Margin Error:', margin_error)\n",
    "print('Confidence Interval: ',[l,u])"
   ]
  },
  {
   "cell_type": "code",
   "execution_count": 17,
   "metadata": {},
   "outputs": [
    {
     "name": "stdout",
     "output_type": "stream",
     "text": [
      "-0.350769230769\n",
      "1.97852449146\n",
      "('Confidence Interval:', [96.798609934325725, 99.699851604135773])\n",
      "('Margin Error:', 1.4506208349050189)\n"
     ]
    }
   ],
   "source": [
    "#Frequentist Approach\n",
    "temp_sem = df.temperature.std()/1.0\n",
    "t_score= (df['temperature'].mean() - 98.6)/1.0\n",
    "crit_t=scipy.stats.t.ppf(0.975, len(df.temperature)-1)\n",
    "ci_width = crit_t * temp_sem\n",
    "print(t_score)\n",
    "print(crit_t)\n",
    "print('Confidence Interval:',[df.temperature.mean() - ci_width, df.temperature.mean() + ci_width])\n",
    "print('Margin Error:', abs(ci_width))"
   ]
  },
  {
   "cell_type": "markdown",
   "metadata": {},
   "source": [
    "<b> Conclusion </b> <br>\n",
    "We can consider the temperature of a person to be abnormal when it is <br>\n",
    "outside 95% confidence range [96.8, 99.69] of mean temperature of sample population <br>"
   ]
  },
  {
   "cell_type": "markdown",
   "metadata": {},
   "source": [
    "## 6. Is there a significant difference between males and females in normal temperature?\n",
    "What testing approach did you use and why? <br>\n",
    "Write a story with your conclusion in the context of the original problem. <br>"
   ]
  },
  {
   "cell_type": "code",
   "execution_count": 35,
   "metadata": {},
   "outputs": [
    {
     "name": "stdout",
     "output_type": "stream",
     "text": [
      "<class 'pandas.core.frame.DataFrame'>\n",
      "Int64Index: 65 entries, 2 to 128\n",
      "Data columns (total 3 columns):\n",
      "temperature    65 non-null float64\n",
      "gender         65 non-null object\n",
      "heart_rate     65 non-null float64\n",
      "dtypes: float64(2), object(1)\n",
      "memory usage: 2.0+ KB\n"
     ]
    },
    {
     "data": {
      "text/plain": [
       "None"
      ]
     },
     "metadata": {},
     "output_type": "display_data"
    },
    {
     "name": "stdout",
     "output_type": "stream",
     "text": [
      "<class 'pandas.core.frame.DataFrame'>\n",
      "Int64Index: 65 entries, 0 to 129\n",
      "Data columns (total 3 columns):\n",
      "temperature    65 non-null float64\n",
      "gender         65 non-null object\n",
      "heart_rate     65 non-null float64\n",
      "dtypes: float64(2), object(1)\n",
      "memory usage: 2.0+ KB\n"
     ]
    },
    {
     "data": {
      "text/plain": [
       "None"
      ]
     },
     "metadata": {},
     "output_type": "display_data"
    },
    {
     "name": "stdout",
     "output_type": "stream",
     "text": [
      "('The obversations count in male dataset: ', 65)\n",
      "('The mean of the male dataset: ', 98.104615384615371)\n",
      "('The mean of the male dataset: ', 0.69875576232659098)\n",
      "('The obversations count in female dataset: ', 65)\n",
      "('The mean of the female dataset: ', 98.393846153846141)\n",
      "('The mean of the female dataset: ', 0.74348775273136636)\n"
     ]
    }
   ],
   "source": [
    "df_males=df[df.gender=='M']\n",
    "df_females=df[df.gender=='F']\n",
    "display(df_males.info())\n",
    "display(df_females.info())\n",
    "diff_means=df_females.temperature.mean() - df_males.temperature.mean()\n",
    "print('The obversations count in male dataset: ',len(df_males.temperature))\n",
    "print('The mean of the male dataset: ',df_males.temperature.mean() )\n",
    "print('The mean of the male dataset: ', df_males.temperature.std())\n",
    "\n",
    "print('The obversations count in female dataset: ',len(df_females.temperature))\n",
    "print('The mean of the female dataset: ', df_females.temperature.mean())\n",
    "print('The mean of the female dataset: ', df_females.temperature.std())"
   ]
  },
  {
   "cell_type": "markdown",
   "metadata": {},
   "source": [
    "<b>Null Hypothesis </b> : There is no difference in the mean temeprature between men and women. <br>\n",
    "<b>Alternate Hypothesis </b> : There is difference in the mean temeprature between men and women. <br>\n",
    "\n",
    "As there are two samples, we will use two sample bootstrapping and two sample t-test for reaching the conclusion. <br>\n",
    "More over, as each male and female dataset have sample size 65 (> 30), we can assume normality of their sample means <br>\n",
    "as per the Central limit theorem. We will use z-statistics to arrive at our conclusion."
   ]
  },
  {
   "cell_type": "code",
   "execution_count": 37,
   "metadata": {},
   "outputs": [
    {
     "data": {
      "text/plain": [
       "0.012200000000000001"
      ]
     },
     "execution_count": 37,
     "metadata": {},
     "output_type": "execute_result"
    }
   ],
   "source": [
    "# Bootstrap Approach\n",
    "df_males_shifted=df_males['temperature']-np.mean(df_males['temperature'])+np.mean(df['temperature'])\n",
    "df_females_shifted=df_females['temperature']-np.mean(df_females['temperature'])+np.mean(df['temperature'])\n",
    "\n",
    "\n",
    "bs_reps_males=draw_bs_reps(df_males_shifted, np.mean, size=10000)\n",
    "bs_reps_females=draw_bs_reps(df_females_shifted, np.mean, size=10000)\n",
    "bs_reps_difference= bs_reps_females - bs_reps_males\n",
    "\n",
    "#Compute p-value\n",
    "p = np.sum(bs_reps_difference >=diff_means)/float(len(bs_reps_difference))\n",
    "p"
   ]
  },
  {
   "cell_type": "code",
   "execution_count": 39,
   "metadata": {},
   "outputs": [
    {
     "name": "stdout",
     "output_type": "stream",
     "text": [
      "2.28543453817\n",
      "1.97771263924\n"
     ]
    }
   ],
   "source": [
    "# Frequentist Approach\n",
    "\n",
    "z = diff_means/ np.sqrt((df_males.temperature.std()**2)/len(df_males) + (df_females.temperature.std()**2)/len(df_females))\n",
    "print(z)\n",
    "p_value=stats.norm.cdf(z)*2\n",
    "print(p_value)"
   ]
  },
  {
   "cell_type": "markdown",
   "metadata": {},
   "source": [
    "From both the Bootstap and frequentist approach, we get p value < 0.05 and reject the null hypothesis. Hence, The body temperatures of men and women are not statistically same."
   ]
  },
  {
   "cell_type": "markdown",
   "metadata": {},
   "source": [
    "Next we check whether the mean body temperatures of females are different from the mean body temperatures of humans. <br>\n",
    "\n",
    "<b>Null Hypothesis </b> : There is no difference in the mean temeprature between women and men+women combined <br>\n",
    "<b>Alternate Hypothesis </b> : There is difference in the mean temeprature between women and men+women combined <br>\n"
   ]
  },
  {
   "cell_type": "code",
   "execution_count": 40,
   "metadata": {},
   "outputs": [
    {
     "name": "stdout",
     "output_type": "stream",
     "text": [
      "-1.28633306289\n",
      "0.198326848319\n"
     ]
    }
   ],
   "source": [
    "# Frequentist Approach\n",
    "\n",
    "diff=df.temperature.mean() - df_females.temperature.mean()\n",
    "\n",
    "z = diff/ np.sqrt((df.temperature.std()**2)/len(df) + (df_females.temperature.std()**2)/len(df_females))\n",
    "print(z)\n",
    "p_value=stats.norm.cdf(z)*2\n",
    "print(p_value)"
   ]
  },
  {
   "cell_type": "markdown",
   "metadata": {},
   "source": [
    "<b> Conclusion </b>\n",
    "\n",
    "From the above analysis, it is evident that the average body temperatures of men <br>\n",
    "and women are different. In fact, average temperature for women are also statistically <br>\n",
    "different from average temperature of all humans. The average body temperatures of (i) all humans,<br>\n",
    "(ii) all men and (iii)all women are also different from 98.6\n",
    "\n"
   ]
  }
 ],
 "metadata": {
  "kernelspec": {
   "display_name": "Python 3",
   "language": "python",
   "name": "python3"
  },
  "language_info": {
   "codemirror_mode": {
    "name": "ipython",
    "version": 3
   },
   "file_extension": ".py",
   "mimetype": "text/x-python",
   "name": "python",
   "nbconvert_exporter": "python",
   "pygments_lexer": "ipython3",
   "version": "3.7.2"
  }
 },
 "nbformat": 4,
 "nbformat_minor": 1
}
